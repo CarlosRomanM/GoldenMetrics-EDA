{
 "cells": [
  {
   "cell_type": "code",
   "execution_count": null,
   "id": "3389789d",
   "metadata": {},
   "outputs": [],
   "source": [
    "import pandas as pd\n",
    "import numpy as np\n",
    "import matplotlib.pyplot as plt\n",
    "import seaborn as sns\n",
    "\n",
    "# Estilo visual\n",
    "sns.set(style=\"whitegrid\", palette=\"pastel\")\n",
    "\n",
    "# Cargar el dataset\n",
    "df = pd.read_csv(\"data/luxsales_simulado.csv\")  # asegúrate de mover el CSV a /data\n",
    "\n",
    "# Vista previa\n",
    "df.head()"
   ]
  }
 ],
 "metadata": {
  "kernelspec": {
   "display_name": "agro",
   "language": "python",
   "name": "python3"
  },
  "language_info": {
   "name": "python",
   "version": "3.13.2"
  }
 },
 "nbformat": 4,
 "nbformat_minor": 5
}
